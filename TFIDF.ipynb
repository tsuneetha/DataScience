d1 = "This is a sample document a"
d2 = "This is another example example example document"
doc1=d1.split(" ")
doc2=d2.split(" ")
doc1
doc2
D1=set(doc1).union(set(doc2))
D1
W1=dict.fromkeys(D1,0)
W2=dict.fromkeys(D1,0)
for word in doc1:
  W1[word]+=1
for word in doc2:
  W2[word]+=1
W1
W2
import pandas as pd
pd.DataFrame([W1,W2])
def TF(W,doc):
  tf={}
  doccount=len(doc)
  for word,count in W.items()
    tf[word]=count/float(doccount)
  return tf
tf1=TF(W1,doc1)
tf2=TF(W2,doc2)
def IDF(D):
  import math
  idf={}
  N=len(D)
  idf=dict.fromkeys(D[0].keys(),0)
  for doc in D:
    for word,val in doc.items():
      if(val>0):
        idf[word]+=1
    for word,val in idf.items():
      idf[word]=math.log10(N/float(val))
  return idf
  IDF=idf([W1,W2])
  def TFIDF(tf,idf)
    tfidf={}
    for word,val in tf.items():
      tfidf[word]=val*idf[word]
    return tfidf  
  tfidf1=TFIDF(tf1,IDF)
  tfidf2=TFIDF(tf2,IDF)
  tfidf1
  tfidf2
  
       
